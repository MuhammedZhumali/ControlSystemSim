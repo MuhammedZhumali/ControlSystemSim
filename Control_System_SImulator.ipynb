{
  "nbformat": 4,
  "nbformat_minor": 0,
  "metadata": {
    "colab": {
      "provenance": []
    },
    "kernelspec": {
      "name": "python3",
      "display_name": "Python 3"
    },
    "language_info": {
      "name": "python"
    },
    "widgets": {
      "application/vnd.jupyter.widget-state+json": {
        "2c8c2aa9a921497d80a53a8e15253e13": {
          "model_module": "@jupyter-widgets/controls",
          "model_name": "VBoxModel",
          "model_module_version": "1.5.0",
          "state": {
            "_dom_classes": [
              "widget-interact"
            ],
            "_model_module": "@jupyter-widgets/controls",
            "_model_module_version": "1.5.0",
            "_model_name": "VBoxModel",
            "_view_count": null,
            "_view_module": "@jupyter-widgets/controls",
            "_view_module_version": "1.5.0",
            "_view_name": "VBoxView",
            "box_style": "",
            "children": [
              "IPY_MODEL_08e256c83bd146f19d0c484698e6045c",
              "IPY_MODEL_3b55c3507d6141ffbe76e816a89740a4",
              "IPY_MODEL_a80dbf57c4cb4152a8e28355d2c74636",
              "IPY_MODEL_4cc6d97d3cf1478289fd23381467c73b"
            ],
            "layout": "IPY_MODEL_240e3a93d19243378f27d1a5b302e1b4"
          }
        },
        "08e256c83bd146f19d0c484698e6045c": {
          "model_module": "@jupyter-widgets/controls",
          "model_name": "FloatSliderModel",
          "model_module_version": "1.5.0",
          "state": {
            "_dom_classes": [],
            "_model_module": "@jupyter-widgets/controls",
            "_model_module_version": "1.5.0",
            "_model_name": "FloatSliderModel",
            "_view_count": null,
            "_view_module": "@jupyter-widgets/controls",
            "_view_module_version": "1.5.0",
            "_view_name": "FloatSliderView",
            "continuous_update": true,
            "description": "Kp",
            "description_tooltip": null,
            "disabled": false,
            "layout": "IPY_MODEL_fcc32d813d7348398c1cd5b2bfdcd01c",
            "max": 10,
            "min": 0,
            "orientation": "horizontal",
            "readout": true,
            "readout_format": ".2f",
            "step": 0.1,
            "style": "IPY_MODEL_c08c0085cde3402a9fc21506a95c55bf",
            "value": 1.6
          }
        },
        "3b55c3507d6141ffbe76e816a89740a4": {
          "model_module": "@jupyter-widgets/controls",
          "model_name": "FloatSliderModel",
          "model_module_version": "1.5.0",
          "state": {
            "_dom_classes": [],
            "_model_module": "@jupyter-widgets/controls",
            "_model_module_version": "1.5.0",
            "_model_name": "FloatSliderModel",
            "_view_count": null,
            "_view_module": "@jupyter-widgets/controls",
            "_view_module_version": "1.5.0",
            "_view_name": "FloatSliderView",
            "continuous_update": true,
            "description": "Ki",
            "description_tooltip": null,
            "disabled": false,
            "layout": "IPY_MODEL_4750d6bd13e14e64b1225aea52f75d05",
            "max": 10,
            "min": 0,
            "orientation": "horizontal",
            "readout": true,
            "readout_format": ".2f",
            "step": 0.1,
            "style": "IPY_MODEL_f46eb410f6ff46d284a3283d249c15da",
            "value": 1.8
          }
        },
        "a80dbf57c4cb4152a8e28355d2c74636": {
          "model_module": "@jupyter-widgets/controls",
          "model_name": "FloatSliderModel",
          "model_module_version": "1.5.0",
          "state": {
            "_dom_classes": [],
            "_model_module": "@jupyter-widgets/controls",
            "_model_module_version": "1.5.0",
            "_model_name": "FloatSliderModel",
            "_view_count": null,
            "_view_module": "@jupyter-widgets/controls",
            "_view_module_version": "1.5.0",
            "_view_name": "FloatSliderView",
            "continuous_update": true,
            "description": "Kd",
            "description_tooltip": null,
            "disabled": false,
            "layout": "IPY_MODEL_f7c0a2aa7f6e4b8999d9339fe7c7889c",
            "max": 5,
            "min": 0,
            "orientation": "horizontal",
            "readout": true,
            "readout_format": ".2f",
            "step": 0.1,
            "style": "IPY_MODEL_676867fae553480580b1239cb66aeb6f",
            "value": 2.6
          }
        },
        "4cc6d97d3cf1478289fd23381467c73b": {
          "model_module": "@jupyter-widgets/output",
          "model_name": "OutputModel",
          "model_module_version": "1.0.0",
          "state": {
            "_dom_classes": [],
            "_model_module": "@jupyter-widgets/output",
            "_model_module_version": "1.0.0",
            "_model_name": "OutputModel",
            "_view_count": null,
            "_view_module": "@jupyter-widgets/output",
            "_view_module_version": "1.0.0",
            "_view_name": "OutputView",
            "layout": "IPY_MODEL_598c698d52f44ccdb839e37b56baca61",
            "msg_id": "",
            "outputs": [
              {
                "output_type": "display_data",
                "data": {
                  "text/plain": "<Figure size 800x400 with 1 Axes>",
                  "image/png": "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\n"
                },
                "metadata": {}
              }
            ]
          }
        },
        "240e3a93d19243378f27d1a5b302e1b4": {
          "model_module": "@jupyter-widgets/base",
          "model_name": "LayoutModel",
          "model_module_version": "1.2.0",
          "state": {
            "_model_module": "@jupyter-widgets/base",
            "_model_module_version": "1.2.0",
            "_model_name": "LayoutModel",
            "_view_count": null,
            "_view_module": "@jupyter-widgets/base",
            "_view_module_version": "1.2.0",
            "_view_name": "LayoutView",
            "align_content": null,
            "align_items": null,
            "align_self": null,
            "border": null,
            "bottom": null,
            "display": null,
            "flex": null,
            "flex_flow": null,
            "grid_area": null,
            "grid_auto_columns": null,
            "grid_auto_flow": null,
            "grid_auto_rows": null,
            "grid_column": null,
            "grid_gap": null,
            "grid_row": null,
            "grid_template_areas": null,
            "grid_template_columns": null,
            "grid_template_rows": null,
            "height": null,
            "justify_content": null,
            "justify_items": null,
            "left": null,
            "margin": null,
            "max_height": null,
            "max_width": null,
            "min_height": null,
            "min_width": null,
            "object_fit": null,
            "object_position": null,
            "order": null,
            "overflow": null,
            "overflow_x": null,
            "overflow_y": null,
            "padding": null,
            "right": null,
            "top": null,
            "visibility": null,
            "width": null
          }
        },
        "fcc32d813d7348398c1cd5b2bfdcd01c": {
          "model_module": "@jupyter-widgets/base",
          "model_name": "LayoutModel",
          "model_module_version": "1.2.0",
          "state": {
            "_model_module": "@jupyter-widgets/base",
            "_model_module_version": "1.2.0",
            "_model_name": "LayoutModel",
            "_view_count": null,
            "_view_module": "@jupyter-widgets/base",
            "_view_module_version": "1.2.0",
            "_view_name": "LayoutView",
            "align_content": null,
            "align_items": null,
            "align_self": null,
            "border": null,
            "bottom": null,
            "display": null,
            "flex": null,
            "flex_flow": null,
            "grid_area": null,
            "grid_auto_columns": null,
            "grid_auto_flow": null,
            "grid_auto_rows": null,
            "grid_column": null,
            "grid_gap": null,
            "grid_row": null,
            "grid_template_areas": null,
            "grid_template_columns": null,
            "grid_template_rows": null,
            "height": null,
            "justify_content": null,
            "justify_items": null,
            "left": null,
            "margin": null,
            "max_height": null,
            "max_width": null,
            "min_height": null,
            "min_width": null,
            "object_fit": null,
            "object_position": null,
            "order": null,
            "overflow": null,
            "overflow_x": null,
            "overflow_y": null,
            "padding": null,
            "right": null,
            "top": null,
            "visibility": null,
            "width": null
          }
        },
        "c08c0085cde3402a9fc21506a95c55bf": {
          "model_module": "@jupyter-widgets/controls",
          "model_name": "SliderStyleModel",
          "model_module_version": "1.5.0",
          "state": {
            "_model_module": "@jupyter-widgets/controls",
            "_model_module_version": "1.5.0",
            "_model_name": "SliderStyleModel",
            "_view_count": null,
            "_view_module": "@jupyter-widgets/base",
            "_view_module_version": "1.2.0",
            "_view_name": "StyleView",
            "description_width": "",
            "handle_color": null
          }
        },
        "4750d6bd13e14e64b1225aea52f75d05": {
          "model_module": "@jupyter-widgets/base",
          "model_name": "LayoutModel",
          "model_module_version": "1.2.0",
          "state": {
            "_model_module": "@jupyter-widgets/base",
            "_model_module_version": "1.2.0",
            "_model_name": "LayoutModel",
            "_view_count": null,
            "_view_module": "@jupyter-widgets/base",
            "_view_module_version": "1.2.0",
            "_view_name": "LayoutView",
            "align_content": null,
            "align_items": null,
            "align_self": null,
            "border": null,
            "bottom": null,
            "display": null,
            "flex": null,
            "flex_flow": null,
            "grid_area": null,
            "grid_auto_columns": null,
            "grid_auto_flow": null,
            "grid_auto_rows": null,
            "grid_column": null,
            "grid_gap": null,
            "grid_row": null,
            "grid_template_areas": null,
            "grid_template_columns": null,
            "grid_template_rows": null,
            "height": null,
            "justify_content": null,
            "justify_items": null,
            "left": null,
            "margin": null,
            "max_height": null,
            "max_width": null,
            "min_height": null,
            "min_width": null,
            "object_fit": null,
            "object_position": null,
            "order": null,
            "overflow": null,
            "overflow_x": null,
            "overflow_y": null,
            "padding": null,
            "right": null,
            "top": null,
            "visibility": null,
            "width": null
          }
        },
        "f46eb410f6ff46d284a3283d249c15da": {
          "model_module": "@jupyter-widgets/controls",
          "model_name": "SliderStyleModel",
          "model_module_version": "1.5.0",
          "state": {
            "_model_module": "@jupyter-widgets/controls",
            "_model_module_version": "1.5.0",
            "_model_name": "SliderStyleModel",
            "_view_count": null,
            "_view_module": "@jupyter-widgets/base",
            "_view_module_version": "1.2.0",
            "_view_name": "StyleView",
            "description_width": "",
            "handle_color": null
          }
        },
        "f7c0a2aa7f6e4b8999d9339fe7c7889c": {
          "model_module": "@jupyter-widgets/base",
          "model_name": "LayoutModel",
          "model_module_version": "1.2.0",
          "state": {
            "_model_module": "@jupyter-widgets/base",
            "_model_module_version": "1.2.0",
            "_model_name": "LayoutModel",
            "_view_count": null,
            "_view_module": "@jupyter-widgets/base",
            "_view_module_version": "1.2.0",
            "_view_name": "LayoutView",
            "align_content": null,
            "align_items": null,
            "align_self": null,
            "border": null,
            "bottom": null,
            "display": null,
            "flex": null,
            "flex_flow": null,
            "grid_area": null,
            "grid_auto_columns": null,
            "grid_auto_flow": null,
            "grid_auto_rows": null,
            "grid_column": null,
            "grid_gap": null,
            "grid_row": null,
            "grid_template_areas": null,
            "grid_template_columns": null,
            "grid_template_rows": null,
            "height": null,
            "justify_content": null,
            "justify_items": null,
            "left": null,
            "margin": null,
            "max_height": null,
            "max_width": null,
            "min_height": null,
            "min_width": null,
            "object_fit": null,
            "object_position": null,
            "order": null,
            "overflow": null,
            "overflow_x": null,
            "overflow_y": null,
            "padding": null,
            "right": null,
            "top": null,
            "visibility": null,
            "width": null
          }
        },
        "676867fae553480580b1239cb66aeb6f": {
          "model_module": "@jupyter-widgets/controls",
          "model_name": "SliderStyleModel",
          "model_module_version": "1.5.0",
          "state": {
            "_model_module": "@jupyter-widgets/controls",
            "_model_module_version": "1.5.0",
            "_model_name": "SliderStyleModel",
            "_view_count": null,
            "_view_module": "@jupyter-widgets/base",
            "_view_module_version": "1.2.0",
            "_view_name": "StyleView",
            "description_width": "",
            "handle_color": null
          }
        },
        "598c698d52f44ccdb839e37b56baca61": {
          "model_module": "@jupyter-widgets/base",
          "model_name": "LayoutModel",
          "model_module_version": "1.2.0",
          "state": {
            "_model_module": "@jupyter-widgets/base",
            "_model_module_version": "1.2.0",
            "_model_name": "LayoutModel",
            "_view_count": null,
            "_view_module": "@jupyter-widgets/base",
            "_view_module_version": "1.2.0",
            "_view_name": "LayoutView",
            "align_content": null,
            "align_items": null,
            "align_self": null,
            "border": null,
            "bottom": null,
            "display": null,
            "flex": null,
            "flex_flow": null,
            "grid_area": null,
            "grid_auto_columns": null,
            "grid_auto_flow": null,
            "grid_auto_rows": null,
            "grid_column": null,
            "grid_gap": null,
            "grid_row": null,
            "grid_template_areas": null,
            "grid_template_columns": null,
            "grid_template_rows": null,
            "height": null,
            "justify_content": null,
            "justify_items": null,
            "left": null,
            "margin": null,
            "max_height": null,
            "max_width": null,
            "min_height": null,
            "min_width": null,
            "object_fit": null,
            "object_position": null,
            "order": null,
            "overflow": null,
            "overflow_x": null,
            "overflow_y": null,
            "padding": null,
            "right": null,
            "top": null,
            "visibility": null,
            "width": null
          }
        }
      }
    }
  },
  "cells": [
    {
      "cell_type": "code",
      "execution_count": 1,
      "metadata": {
        "colab": {
          "base_uri": "https://localhost:8080/"
        },
        "id": "c2-bPrvINqjO",
        "outputId": "06867288-62b3-4925-ce3d-6b3a918adebc"
      },
      "outputs": [
        {
          "output_type": "stream",
          "name": "stdout",
          "text": [
            "Collecting control\n",
            "  Downloading control-0.10.1-py3-none-any.whl.metadata (7.6 kB)\n",
            "Requirement already satisfied: numpy>=1.23 in /usr/local/lib/python3.11/dist-packages (from control) (2.0.2)\n",
            "Requirement already satisfied: scipy>=1.8 in /usr/local/lib/python3.11/dist-packages (from control) (1.15.3)\n",
            "Requirement already satisfied: matplotlib>=3.6 in /usr/local/lib/python3.11/dist-packages (from control) (3.10.0)\n",
            "Requirement already satisfied: contourpy>=1.0.1 in /usr/local/lib/python3.11/dist-packages (from matplotlib>=3.6->control) (1.3.2)\n",
            "Requirement already satisfied: cycler>=0.10 in /usr/local/lib/python3.11/dist-packages (from matplotlib>=3.6->control) (0.12.1)\n",
            "Requirement already satisfied: fonttools>=4.22.0 in /usr/local/lib/python3.11/dist-packages (from matplotlib>=3.6->control) (4.58.0)\n",
            "Requirement already satisfied: kiwisolver>=1.3.1 in /usr/local/lib/python3.11/dist-packages (from matplotlib>=3.6->control) (1.4.8)\n",
            "Requirement already satisfied: packaging>=20.0 in /usr/local/lib/python3.11/dist-packages (from matplotlib>=3.6->control) (24.2)\n",
            "Requirement already satisfied: pillow>=8 in /usr/local/lib/python3.11/dist-packages (from matplotlib>=3.6->control) (11.2.1)\n",
            "Requirement already satisfied: pyparsing>=2.3.1 in /usr/local/lib/python3.11/dist-packages (from matplotlib>=3.6->control) (3.2.3)\n",
            "Requirement already satisfied: python-dateutil>=2.7 in /usr/local/lib/python3.11/dist-packages (from matplotlib>=3.6->control) (2.9.0.post0)\n",
            "Requirement already satisfied: six>=1.5 in /usr/local/lib/python3.11/dist-packages (from python-dateutil>=2.7->matplotlib>=3.6->control) (1.17.0)\n",
            "Downloading control-0.10.1-py3-none-any.whl (549 kB)\n",
            "\u001b[2K   \u001b[90m━━━━━━━━━━━━━━━━━━━━━━━━━━━━━━━━━━━━━━━━\u001b[0m \u001b[32m549.6/549.6 kB\u001b[0m \u001b[31m10.4 MB/s\u001b[0m eta \u001b[36m0:00:00\u001b[0m\n",
            "\u001b[?25hInstalling collected packages: control\n",
            "Successfully installed control-0.10.1\n"
          ]
        }
      ],
      "source": [
        "!pip install control\n"
      ]
    },
    {
      "cell_type": "code",
      "source": [
        "import numpy as np\n",
        "import matplotlib.pyplot as plt\n",
        "import control as ctrl\n",
        "\n",
        "# Plant transfer function G(s) = 1 / (s^2 + 3s + 2)\n",
        "G = ctrl.tf([1], [1, 3, 2])\n",
        "\n",
        "# PID Controller: C(s) = Kp + Ki/s + Kd*s\n",
        "Kp, Ki, Kd = 2, 1, 0.5\n",
        "C = ctrl.tf([Kd, Kp, Ki], [1, 0])\n",
        "\n",
        "# Closed-loop system with negative feedback\n",
        "T = ctrl.feedback(C * G, 1)\n",
        "\n",
        "# Step response\n",
        "t, y = ctrl.step_response(T)\n",
        "\n"
      ],
      "metadata": {
        "id": "qDlnmuQbOTfX"
      },
      "execution_count": 2,
      "outputs": []
    },
    {
      "cell_type": "code",
      "source": [
        "plt.figure(figsize=(10, 5))\n",
        "plt.plot(t, y, label='Step Response')\n",
        "plt.title('Closed-loop System Response with PID Controller')\n",
        "plt.xlabel('Time (s)')\n",
        "plt.ylabel('Output')\n",
        "plt.grid(True)\n",
        "plt.legend()\n",
        "plt.show()\n"
      ],
      "metadata": {
        "colab": {
          "base_uri": "https://localhost:8080/",
          "height": 487
        },
        "id": "GOSQt53kOWxU",
        "outputId": "67a2ebfe-1cca-488b-d61a-1dd34be6d4b7"
      },
      "execution_count": 3,
      "outputs": [
        {
          "output_type": "display_data",
          "data": {
            "text/plain": [
              "<Figure size 1000x500 with 1 Axes>"
            ],
            "image/png": "[encoded data removed]"
          },
          "metadata": {}
        }
      ]
    },
    {
      "cell_type": "code",
      "source": [
        "from ipywidgets import interact, FloatSlider\n",
        "\n",
        "def simulate_pid(Kp=2.0, Ki=1.0, Kd=0.5):\n",
        "    C = ctrl.tf([Kd, Kp, Ki], [1, 0])\n",
        "    T = ctrl.feedback(C * G, 1)\n",
        "    t, y = ctrl.step_response(T)\n",
        "    plt.figure(figsize=(8, 4))\n",
        "    plt.plot(t, y)\n",
        "    plt.title(f\"PID Response (Kp={Kp}, Ki={Ki}, Kd={Kd})\")\n",
        "    plt.xlabel('Time'); plt.ylabel('Output')\n",
        "    plt.grid(True)\n",
        "    plt.show()\n",
        "\n",
        "interact(simulate_pid,\n",
        "         Kp=FloatSlider(value=2, min=0, max=10, step=0.1),\n",
        "         Ki=FloatSlider(value=1, min=0, max=10, step=0.1),\n",
        "         Kd=FloatSlider(value=0.5, min=0, max=5, step=0.1));\n"
      ],
      "metadata": {
        "colab": {
          "base_uri": "https://localhost:8080/",
          "height": 506,
          "referenced_widgets": [
            "2c8c2aa9a921497d80a53a8e15253e13",
            "08e256c83bd146f19d0c484698e6045c",
            "3b55c3507d6141ffbe76e816a89740a4",
            "a80dbf57c4cb4152a8e28355d2c74636",
            "4cc6d97d3cf1478289fd23381467c73b",
            "240e3a93d19243378f27d1a5b302e1b4",
            "fcc32d813d7348398c1cd5b2bfdcd01c",
            "c08c0085cde3402a9fc21506a95c55bf",
            "4750d6bd13e14e64b1225aea52f75d05",
            "f46eb410f6ff46d284a3283d249c15da",
            "f7c0a2aa7f6e4b8999d9339fe7c7889c",
            "676867fae553480580b1239cb66aeb6f",
            "598c698d52f44ccdb839e37b56baca61"
          ]
        },
        "id": "rtZZj5SlOfut",
        "outputId": "e9b912d5-d699-4fec-860b-4c2e0a1618b1"
      },
      "execution_count": 4,
      "outputs": [
        {
          "output_type": "display_data",
          "data": {
            "text/plain": [
              "interactive(children=(FloatSlider(value=2.0, description='Kp', max=10.0), FloatSlider(value=1.0, description='…"
            ],
            "application/vnd.jupyter.widget-view+json": {
              "version_major": 2,
              "version_minor": 0,
              "model_id": "2c8c2aa9a921497d80a53a8e15253e13"
            }
          },
          "metadata": {}
        }
      ]
    },
    {
      "cell_type": "code",
      "source": [],
      "metadata": {
        "id": "18ym9VztOi6Y"
      },
      "execution_count": null,
      "outputs": []
    }
  ]
}